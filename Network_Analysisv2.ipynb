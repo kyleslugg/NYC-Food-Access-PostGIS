{
 "cells": [
  {
   "cell_type": "code",
   "execution_count": 31,
   "metadata": {},
   "outputs": [],
   "source": [
    "import geopandas as gpd\n",
    "import pandas as pd\n",
    "import shapely as shp\n",
    "import seaborn as sns\n",
    "import numpy as np\n",
    "\n",
    "import json\n",
    "\n",
    "import psycopg2\n",
    "from geoalchemy2 import Geometry, WKTElement\n",
    "from sqlalchemy import *"
   ]
  },
  {
   "cell_type": "code",
   "execution_count": 33,
   "metadata": {},
   "outputs": [],
   "source": [
    "engine = create_engine('postgresql://kyleslugg:@localhost:5432/FoodAccess')"
   ]
  },
  {
   "cell_type": "code",
   "execution_count": 43,
   "metadata": {},
   "outputs": [],
   "source": [
    "block_centroids = gpd.read_postgis('SELECT * FROM block_centroids', engine)\n",
    "markets = gpd.read_postgis('SELECT * FROM markets', engine)"
   ]
  },
  {
   "cell_type": "markdown",
   "metadata": {},
   "source": [
    "### Find Closest Markets to Each Block Centroid"
   ]
  },
  {
   "cell_type": "code",
   "execution_count": 25,
   "metadata": {},
   "outputs": [],
   "source": [
    "conn = psycopg2.connect(\"dbname=FoodAccess user=kyleslugg\")\n",
    "cur = conn.cursor()"
   ]
  },
  {
   "cell_type": "code",
   "execution_count": 12,
   "metadata": {},
   "outputs": [],
   "source": [
    "nearest_three_markets = pd.DataFrame({'nearest_1':'000000', \n",
    "                        'nearest_2':'000000', \n",
    "                        'nearest_3':'000000'}, index=['00000'])\n",
    "\n",
    "for geoid in block_centroids['geoid10']:\n",
    "    query = f'''\n",
    "        SELECT id \n",
    "        FROM markets\n",
    "        ORDER BY markets.geom <-> (SELECT geom from block_centroids bc2 WHERE bc2.geoid10 = '{geoid}')\n",
    "        LIMIT 3;'''\n",
    "    cur.execute(query)\n",
    "    results = cur.fetchall()\n",
    "    \n",
    "    nearest_three_markets = nearest_three_markets.append(pd.DataFrame({'nearest_1':results[0][0],\n",
    "                       'nearest_2':results[1][0],\n",
    "                       'nearest_3':results[2][0]}, index=[geoid]))"
   ]
  },
  {
   "cell_type": "code",
   "execution_count": 26,
   "metadata": {},
   "outputs": [],
   "source": [
    "conn.close()\n",
    "\n",
    "nearest_three_markets.to_sql('nearest_markets', engine, if_exists='replace')"
   ]
  },
  {
   "cell_type": "markdown",
   "metadata": {},
   "source": [
    "### Find closest vertex in street_centerlines graph to markets and block centroids"
   ]
  },
  {
   "cell_type": "code",
   "execution_count": 27,
   "metadata": {},
   "outputs": [],
   "source": [
    "def get_nearest_vertex(identifier, table_name, id_col_name, cursor):\n",
    "    query = f'''SELECT id FROM street_centerlines_vertices_pgr \n",
    "    ORDER BY the_geom <-> (SELECT geom FROM {table_name} t2 WHERE t2.{id_col_name} = '{identifier}' ) LIMIT 1;'''\n",
    "    cursor.execute(query)\n",
    "    result = cursor.fetchone()\n",
    "    return result[0]"
   ]
  },
  {
   "cell_type": "code",
   "execution_count": 44,
   "metadata": {},
   "outputs": [],
   "source": [
    "conn = psycopg2.connect(\"dbname=FoodAccess user=kyleslugg\")\n",
    "cur = conn.cursor()\n",
    "\n",
    "block_centroids['nearest_node'] = block_centroids['geoid10'].apply(lambda x: get_nearest_vertex(x, 'block_centroids', 'geoid10', cur))\n",
    "markets['nearest_node'] = markets['id'].apply(lambda x: get_nearest_vertex(x, 'markets', 'id', cur))\n",
    "\n",
    "conn.close()"
   ]
  },
  {
   "cell_type": "code",
   "execution_count": 45,
   "metadata": {},
   "outputs": [],
   "source": [
    "block_centroids['geom'] = block_centroids['geom'].apply(lambda x: WKTElement(x.wkt, srid=4326))\n",
    "block_centroids.to_sql('block_centroids', engine, if_exists='replace', index=False, dtype={'geom': Geometry('POINT', srid=4326)})\n",
    "\n",
    "markets['geom'] = markets['geom'].apply(lambda x: WKTElement(x.wkt, srid=4326))\n",
    "markets.to_sql('markets', engine, if_exists='replace', index=False, dtype={'geom': Geometry('POINT', srid=4326)})"
   ]
  },
  {
   "cell_type": "code",
   "execution_count": 46,
   "metadata": {},
   "outputs": [],
   "source": [
    "block_centroids = gpd.read_postgis('SELECT * FROM block_centroids', engine)\n",
    "markets = gpd.read_postgis('SELECT * FROM markets', engine)"
   ]
  },
  {
   "cell_type": "markdown",
   "metadata": {},
   "source": [
    "### Compute walking time from block centroids to three closest markets\n",
    "\n",
    "This analysis draws on a network graph constructed using pgrouting and a shapefile of NYC street centerlines. Costs (in minutes) have been computed for each street segment on the assumption of a 5km/h walking speed."
   ]
  },
  {
   "cell_type": "code",
   "execution_count": 77,
   "metadata": {},
   "outputs": [],
   "source": [
    "def get_ending_nodes(geoid):\n",
    "        query = f'''SELECT nearest_1, nearest_2, nearest_3 \n",
    "                    FROM nearest_markets \n",
    "                    WHERE index ='{geoid}';'''\n",
    "        cur.execute(query)\n",
    "        market_ids = cur.fetchall()[0]\n",
    "        node_ids = []\n",
    "        \n",
    "        for market in market_ids:\n",
    "            cur.execute(f'''SELECT nearest_node FROM markets WHERE id = '{market}';''')\n",
    "            node_ids.append(cur.fetchone()[0])\n",
    "        \n",
    "        return node_ids"
   ]
  },
  {
   "cell_type": "code",
   "execution_count": 78,
   "metadata": {},
   "outputs": [],
   "source": [
    "conn = psycopg2.connect(\"dbname=FoodAccess user=kyleslugg\")\n",
    "cur = conn.cursor()\n",
    "\n",
    "node_pairs = pd.DataFrame({})\n",
    "node_pairs['geoid10'] = block_centroids['geoid10']\n",
    "node_pairs['starting_node'] = block_centroids['nearest_node']\n",
    "node_pairs['ending_nodes'] = node_pairs['geoid10'].apply(lambda x: get_ending_nodes(x))"
   ]
  },
  {
   "cell_type": "code",
   "execution_count": 95,
   "metadata": {},
   "outputs": [],
   "source": [
    "def get_shortest_walk(node_table_row, cur):\n",
    "#cur is a cursor connected to an appropriate PostGIS database\n",
    "    def compute_walking_times(starting_node, ending_nodes):\n",
    "        array_string = f'ARRAY[{ending_nodes[0]}, {ending_nodes[1]}, {ending_nodes[2]}]'\n",
    "        query = f'''SELECT * FROM pgr_bdDijkstra(\n",
    "        'SELECT id, source, target, cost, reverse_cost FROM street_centerlines', {starting_node},  {array_string}, false);'''\n",
    "        cur.execute(query)\n",
    "        results = pd.DataFrame(cur.fetchall())\n",
    "        cols = results.columns\n",
    "        try:\n",
    "            return results[results[cols[4]]==-1][cols[6]].tolist()\n",
    "        except:\n",
    "            return [0, 0, 0]\n",
    "    \n",
    "    return min(compute_walking_times(node_table_row['starting_node'], node_table_row['ending_nodes']))"
   ]
  },
  {
   "cell_type": "code",
   "execution_count": 96,
   "metadata": {},
   "outputs": [],
   "source": [
    "conn = psycopg2.connect(\"dbname=FoodAccess user=kyleslugg\")\n",
    "cur = conn.cursor()\n",
    "\n",
    "block_centroids['time_to_market'] = node_pairs.apply(lambda row: get_shortest_walk(row, cur), axis=1)\n",
    "\n",
    "conn.close()\n",
    "    "
   ]
  },
  {
   "cell_type": "code",
   "execution_count": 98,
   "metadata": {},
   "outputs": [],
   "source": [
    "block_centroids['geom'] = block_centroids['geom'].apply(lambda x: WKTElement(x.wkt, srid=4326))\n",
    "block_centroids.to_sql('block_centroids', engine, if_exists='replace', index=False, dtype={'geom': Geometry('POINT', srid=4326)})"
   ]
  },
  {
   "cell_type": "code",
   "execution_count": null,
   "metadata": {},
   "outputs": [],
   "source": []
  }
 ],
 "metadata": {
  "kernelspec": {
   "display_name": "Python 3",
   "language": "python",
   "name": "python3"
  },
  "language_info": {
   "codemirror_mode": {
    "name": "ipython",
    "version": 3
   },
   "file_extension": ".py",
   "mimetype": "text/x-python",
   "name": "python",
   "nbconvert_exporter": "python",
   "pygments_lexer": "ipython3",
   "version": "3.7.6"
  }
 },
 "nbformat": 4,
 "nbformat_minor": 4
}
